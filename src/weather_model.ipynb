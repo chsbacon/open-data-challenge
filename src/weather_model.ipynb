{
 "cells": [
  {
   "cell_type": "code",
   "execution_count": 1,
   "metadata": {},
   "outputs": [
    {
     "ename": "ImportError",
     "evalue": "No module named 'keras'",
     "output_type": "error",
     "traceback": [
      "\u001b[0;31m---------------------------------------------------------------------------\u001b[0m",
      "\u001b[0;31mImportError\u001b[0m                               Traceback (most recent call last)",
      "\u001b[0;32m<ipython-input-1-f13df95d43c7>\u001b[0m in \u001b[0;36m<module>\u001b[0;34m()\u001b[0m\n\u001b[1;32m      2\u001b[0m \u001b[0;32mimport\u001b[0m \u001b[0mnumpy\u001b[0m \u001b[0;32mas\u001b[0m \u001b[0mnp\u001b[0m\u001b[0;34m\u001b[0m\u001b[0m\n\u001b[1;32m      3\u001b[0m \u001b[0;34m\u001b[0m\u001b[0m\n\u001b[0;32m----> 4\u001b[0;31m \u001b[0;32mimport\u001b[0m \u001b[0mkeras\u001b[0m\u001b[0;34m\u001b[0m\u001b[0m\n\u001b[0m\u001b[1;32m      5\u001b[0m \u001b[0;31m#from keras.models import Sequential\u001b[0m\u001b[0;34m\u001b[0m\u001b[0;34m\u001b[0m\u001b[0m\n\u001b[1;32m      6\u001b[0m \u001b[0;31m#from keras.layers import Dense, Dropout\u001b[0m\u001b[0;34m\u001b[0m\u001b[0;34m\u001b[0m\u001b[0m\n",
      "\u001b[0;31mImportError\u001b[0m: No module named 'keras'"
     ]
    }
   ],
   "source": [
    "import pandas as pd\n",
    "import numpy as np\n",
    "\n",
    "import keras\n",
    "from keras.models import Sequential\n",
    "from keras.layers import Dense, Dropout\n",
    "from keras.optimizers import RMSprop\n",
    "\n",
    "import glob"
   ]
  },
  {
   "cell_type": "code",
   "execution_count": null,
   "metadata": {},
   "outputs": [],
   "source": [
    "weather_df = pd.read_csv('../data/weather/precip_temp.csv')\n",
    "clients_glob = glob.glob('../data/wifi/**/Clients per day.csv')\n",
    "clients_df = pd.concat(map(lambda csv: pd.read_csv(csv, parse_dates=[0]),\n",
    "                           clients_glob), ignore_index=True)\n",
    "weekday_labels = []\n",
    "for d in range(7):\n",
    "    label = 'weekday-%i' % d\n",
    "    weekday_labels.append(label)\n",
    "    clients_df[label] = [int(dt.weekday()==d) for dt in clients_df['Time']]\n",
    "# Put clients date in the same format as it is in the weather data\n",
    "clients_df['Time'] = [dt.strftime('%Y-%m-%d') for dt in clients_df['Time']]\n",
    "\n",
    "all_data = clients_df.merge(weather_df, left_on='Time',\n",
    "                            right_on='DATE', how='left')\n",
    "\n",
    "prop_to_set_aside_as_test_data = 0.1\n",
    "xy_test = all_data.sample(frac=prop_to_set_aside_as_test_data)\n",
    "xy_train = all_data.drop(xy_test.index)\n",
    "\n",
    "x_labels = weekday_labels + ['PRCP', 'TMAX', 'TMIN']\n",
    "y_labels = ['# Clients']\n",
    "x_train = xy_train[x_labels].values\n",
    "y_train = xy_train[y_labels].values\n",
    "x_test = xy_test[x_labels].values\n",
    "y_test = xy_test[y_labels].values\n"
   ]
  },
  {
   "cell_type": "code",
   "execution_count": null,
   "metadata": {},
   "outputs": [],
   "source": [
    "epochs = 40\n",
    "\n",
    "model = Sequential()\n",
    "model.add(Dense(30, activation='relu', input_shape=(10,)))\n",
    "model.add(Dropout(0.2))\n",
    "model.add(Dense(30, activation='relu'))\n",
    "model.add(Dropout(0.2))\n",
    "model.add(Dense(1, activation='linear'))\n",
    "\n",
    "model.summary()\n",
    "\n",
    "model.compile(loss='mean_absolute_percentage_error',\n",
    "              optimizer=RMSprop())\n",
    "\n",
    "history = model.fit(x_train, y_train,\n",
    "                    epochs=epochs,\n",
    "                    verbose=1,\n",
    "                    validation_data=(x_test, y_test))\n",
    "score = model.evaluate(x_test, y_test, verbose=0)\n",
    "print('Test loss:', score[0])\n",
    "print('Test accuracy:', score[1])"
   ]
  },
  {
   "cell_type": "code",
   "execution_count": null,
   "metadata": {},
   "outputs": [],
   "source": []
  }
 ],
 "metadata": {
  "kernelspec": {
   "display_name": "Python 3",
   "language": "python",
   "name": "python3"
  },
  "language_info": {
   "codemirror_mode": {
    "name": "ipython",
    "version": 3
   },
   "file_extension": ".py",
   "mimetype": "text/x-python",
   "name": "python",
   "nbconvert_exporter": "python",
   "pygments_lexer": "ipython3",
   "version": "3.4.3"
  }
 },
 "nbformat": 4,
 "nbformat_minor": 2
}
