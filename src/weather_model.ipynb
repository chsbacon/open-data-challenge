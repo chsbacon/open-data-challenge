{
 "cells": [
  {
   "cell_type": "code",
   "execution_count": 35,
   "metadata": {},
   "outputs": [],
   "source": [
    "import pandas as pd\n",
    "import numpy as np\n",
    "\n",
    "import keras\n",
    "from keras.models import Sequential\n",
    "from keras.layers import Dense, Dropout\n",
    "\n",
    "import glob\n",
    "import os\n",
    "\n",
    "from scipy.stats import zscore"
   ]
  },
  {
   "cell_type": "code",
   "execution_count": 36,
   "metadata": {},
   "outputs": [
    {
     "name": "stdout",
     "output_type": "stream",
     "text": [
      "           Time  # Clients  weekday-0  weekday-1  weekday-2  weekday-3  \\\n",
      "311  2017-05-19        245          0          0          0          0   \n",
      "\n",
      "     weekday-4  weekday-5  weekday-6 DATE  PRCP  TMAX  TMIN  \n",
      "311          1          0          0  NaN   NaN   NaN   NaN  \n"
     ]
    }
   ],
   "source": [
    "weather_path = os.path.join('..','data','weather','precip_temp.csv')\n",
    "weather_df = pd.read_csv(weather_path)\n",
    "clients_path = os.path.join('..','data','wifi','**','Clients per day.csv')\n",
    "clients_df = pd.concat(map(lambda csv: pd.read_csv(csv, parse_dates=[0]),\n",
    "                           glob.glob(clients_path)), ignore_index=True)\n",
    "weekday_labels = []\n",
    "for d in range(7):\n",
    "    label = 'weekday-%i' % d\n",
    "    weekday_labels.append(label)\n",
    "    clients_df[label] = [int(dt.weekday()==d) for dt in clients_df['Time']]\n",
    "# Put clients date in the same format as it is in the weather data\n",
    "clients_df['Time'] = [dt.strftime('%Y-%m-%d') for dt in clients_df['Time']]\n",
    "\n",
    "all_data = clients_df.merge(weather_df, left_on='Time',\n",
    "                            right_on='DATE', how='left')\n",
    "# all_data.drop(columns=['Time', 'DATE'])\n",
    "\n",
    "prop_to_set_aside_as_test_data = 0.1\n",
    "xy_test = all_data.sample(frac=prop_to_set_aside_as_test_data)\n",
    "xy_train = all_data.drop(xy_test.index)\n",
    "\n",
    "print(xy_train[xy_train['TMIN'].isnull()])\n",
    "\n",
    "cols_to_norm = ['TMIN']\n",
    "for col in cols_to_norm:\n",
    "    xy_test[col] = zscore(xy_test[col])\n",
    "    xy_train[col] = zscore(xy_train[col])\n",
    "\n",
    "x_labels = weekday_labels + ['PRCP', 'TMAX', 'TMIN']\n",
    "y_labels = ['# Clients']\n",
    "x_train = xy_train[x_labels].values\n",
    "y_train = xy_train[y_labels].values\n",
    "x_test = xy_test[x_labels].values\n",
    "y_test = xy_test[y_labels].values"
   ]
  },
  {
   "cell_type": "code",
   "execution_count": 15,
   "metadata": {},
   "outputs": [
    {
     "name": "stdout",
     "output_type": "stream",
     "text": [
      "_________________________________________________________________\n",
      "Layer (type)                 Output Shape              Param #   \n",
      "=================================================================\n",
      "dense_16 (Dense)             (None, 10)                110       \n",
      "_________________________________________________________________\n",
      "dropout_11 (Dropout)         (None, 10)                0         \n",
      "_________________________________________________________________\n",
      "dense_17 (Dense)             (None, 10)                110       \n",
      "_________________________________________________________________\n",
      "dropout_12 (Dropout)         (None, 10)                0         \n",
      "_________________________________________________________________\n",
      "dense_18 (Dense)             (None, 1)                 11        \n",
      "=================================================================\n",
      "Total params: 231\n",
      "Trainable params: 231\n",
      "Non-trainable params: 0\n",
      "_________________________________________________________________\n",
      "Train on 318 samples, validate on 35 samples\n",
      "Epoch 1/10\n",
      "318/318 [==============================] - 1s 4ms/step - loss: nan - val_loss: nan\n",
      "Epoch 2/10\n",
      "318/318 [==============================] - 0s 616us/step - loss: nan - val_loss: nan\n",
      "Epoch 3/10\n",
      "318/318 [==============================] - 0s 535us/step - loss: nan - val_loss: nan\n",
      "Epoch 4/10\n",
      "318/318 [==============================] - 0s 412us/step - loss: nan - val_loss: nan\n",
      "Epoch 5/10\n",
      "318/318 [==============================] - 0s 693us/step - loss: nan - val_loss: nan\n",
      "Epoch 6/10\n",
      "318/318 [==============================] - 0s 878us/step - loss: nan - val_loss: nan\n",
      "Epoch 7/10\n",
      "318/318 [==============================] - 0s 424us/step - loss: nan - val_loss: nan\n",
      "Epoch 8/10\n",
      "318/318 [==============================] - 0s 474us/step - loss: nan - val_loss: nan\n",
      "Epoch 9/10\n",
      "318/318 [==============================] - 0s 632us/step - loss: nan - val_loss: nan\n",
      "Epoch 10/10\n",
      "318/318 [==============================] - 0s 548us/step - loss: nan - val_loss: nan\n",
      "35/35 [==============================] - 0s 368us/step\n",
      "Test loss: nan\n"
     ]
    }
   ],
   "source": [
    "epochs = 10\n",
    "\n",
    "model = Sequential()\n",
    "model.add(Dense(10, activation='relu', input_shape=(10,)))\n",
    "model.add(Dropout(0.3))\n",
    "model.add(Dense(10, activation='relu'))\n",
    "model.add(Dropout(0.3))\n",
    "model.add(Dense(1, activation='linear'))\n",
    "\n",
    "model.summary()\n",
    "\n",
    "model.compile(loss='mean_absolute_percentage_error',\n",
    "              optimizer='Adagrad')\n",
    "\n",
    "history = model.fit(x_train, y_train,\n",
    "                    epochs=epochs,\n",
    "                    verbose=1,\n",
    "                    validation_data=(x_test, y_test))\n",
    "score = model.evaluate(x_test, y_test, verbose=1)\n",
    "print('Test loss:', score)"
   ]
  },
  {
   "cell_type": "code",
   "execution_count": null,
   "metadata": {},
   "outputs": [],
   "source": []
  }
 ],
 "metadata": {
  "kernelspec": {
   "display_name": "Python 3",
   "language": "python",
   "name": "python3"
  },
  "language_info": {
   "codemirror_mode": {
    "name": "ipython",
    "version": 3
   },
   "file_extension": ".py",
   "mimetype": "text/x-python",
   "name": "python",
   "nbconvert_exporter": "python",
   "pygments_lexer": "ipython3",
   "version": "3.6.4"
  }
 },
 "nbformat": 4,
 "nbformat_minor": 2
}
