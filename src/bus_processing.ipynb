{
 "cells": [
  {
   "cell_type": "code",
   "execution_count": 1,
   "metadata": {
    "collapsed": true
   },
   "outputs": [],
   "source": [
    "import pandas as pd\n",
    "from dateutil import parser\n",
    "\n",
    "data = pd.read_csv(\"C:\\\\Users\\\\Jamie\\Downloads\\\\Transit.csv\")\n",
    "\n",
    "data = data[data['Date_Time'].str.contains('2017')].sort_values(by=['Date_Time'])\n",
    "\n",
    "center = (38.030602, -78.480897)"
   ]
  },
  {
   "cell_type": "code",
   "execution_count": 2,
   "metadata": {
    "collapsed": false
   },
   "outputs": [],
   "source": [
    "data = data[((data['Latitude'] - center[0])**2 + (data['Longitude'] - center[1])**2)**(.5) < .003]\n",
    "\n",
    "def dateToFrac(date):\n",
    "    return(parser.parse(date).strftime('%j'))\n",
    "\n",
    "data['Date_Time'] = data['Date_Time'].apply(dateToFrac)\n",
    "\n",
    "data.head()"
   ]
  }
 ],
 "metadata": {
  "kernelspec": {
   "display_name": "Python 3",
   "language": "python",
   "name": "python3"
  },
  "language_info": {
   "codemirror_mode": {
    "name": "ipython",
    "version": 3
   },
   "file_extension": ".py",
   "mimetype": "text/x-python",
   "name": "python",
   "nbconvert_exporter": "python",
   "pygments_lexer": "ipython3",
   "version": "3.6.0"
  }
 },
 "nbformat": 4,
 "nbformat_minor": 2
}
