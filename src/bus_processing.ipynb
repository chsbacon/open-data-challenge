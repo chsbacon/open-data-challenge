{
 "cells": [
  {
   "cell_type": "code",
   "execution_count": 24,
   "metadata": {},
   "outputs": [],
   "source": [
    "import pandas as pd\n",
    "from dateutil import parser\n",
    "import numpy as np\n",
    "from numpy.linalg import norm\n",
    "\n",
    "import glob\n",
    "import os\n",
    "\n",
    "def distToMall(posTuple):\n",
    "    lat = posTuple[0]\n",
    "    long = posTuple[1]\n",
    "    p1 = np.array([38.031233, -78.482905])\n",
    "    p2 = np.array([38.029413, -78.477146])\n",
    "    p3 = np.array([lat, long])\n",
    "    return norm(np.cross(p2 - p1, p1 - p3)) / norm(p2 - p1)\n",
    "\n",
    "transit_path = os.path.join('..','data','bus_transit','bus_transit.csv')\n",
    "data = pd.read_csv(transit_path, engine = 'python', sep='\\s*,\\s*')"
   ]
  },
  {
   "cell_type": "code",
   "execution_count": null,
   "metadata": {},
   "outputs": [],
   "source": [
    "data['LatLong'] = list(zip(data['Latitude'], data['Longitude']))"
   ]
  },
  {
   "cell_type": "code",
   "execution_count": 34,
   "metadata": {},
   "outputs": [],
   "source": [
    "data['BusDistMetric'] = data['LatLong'].apply(distToMall).apply(lambda x: max(x**2 * 10**6, .4))"
   ]
  }
 ],
 "metadata": {
  "kernelspec": {
   "display_name": "Python 3",
   "language": "python",
   "name": "python3"
  },
  "language_info": {
   "codemirror_mode": {
    "name": "ipython",
    "version": 3
   },
   "file_extension": ".py",
   "mimetype": "text/x-python",
   "name": "python",
   "nbconvert_exporter": "python",
   "pygments_lexer": "ipython3",
   "version": "3.5.2"
  }
 },
 "nbformat": 4,
 "nbformat_minor": 2
}
