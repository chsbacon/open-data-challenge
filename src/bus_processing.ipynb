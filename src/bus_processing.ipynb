{
 "cells": [
  {
   "cell_type": "code",
   "execution_count": 30,
   "metadata": {
    "collapsed": true
   },
   "outputs": [],
   "source": [
    "import pandas as pd"
   ]
  },
  {
   "cell_type": "code",
   "execution_count": 31,
   "metadata": {
    "collapsed": true
   },
   "outputs": [],
   "source": [
    "data = pd.read_csv(\"C:\\\\Users\\\\Jamie\\Downloads\\\\Transit.csv\")"
   ]
  },
  {
   "cell_type": "code",
   "execution_count": 32,
   "metadata": {
    "collapsed": false
   },
   "outputs": [],
   "source": [
    "data = data[data['Date_Time'].str.contains('2017')].sort_values(by=['Date_Time'])"
   ]
  },
  {
   "cell_type": "code",
   "execution_count": 33,
   "metadata": {
    "collapsed": true
   },
   "outputs": [],
   "source": [
    "center = (38.030602, -78.480897)"
   ]
  },
  {
   "cell_type": "code",
   "execution_count": 35,
   "metadata": {
    "collapsed": false
   },
   "outputs": [],
   "source": [
    "data = data[((data['Latitude'] - center[0])**2 + (data['Longitude'] - center[1])**2)**(.5) < .003]"
   ]
  },
  {
   "cell_type": "code",
   "execution_count": 37,
   "metadata": {
    "collapsed": false
   },
   "outputs": [
    {
     "data": {
      "text/html": [
       "<div>\n",
       "<table border=\"1\" class=\"dataframe\">\n",
       "  <thead>\n",
       "    <tr style=\"text-align: right;\">\n",
       "      <th></th>\n",
       "      <th>TransitID</th>\n",
       "      <th>Stop</th>\n",
       "      <th>Route</th>\n",
       "      <th>Date_Time</th>\n",
       "      <th>Count</th>\n",
       "      <th>FareCategory</th>\n",
       "      <th>PaymentType</th>\n",
       "      <th>Latitude</th>\n",
       "      <th>Longitude</th>\n",
       "    </tr>\n",
       "  </thead>\n",
       "  <tbody>\n",
       "    <tr>\n",
       "      <th>554123</th>\n",
       "      <td>934444</td>\n",
       "      <td>11015 - East Water St at 3rd St SE</td>\n",
       "      <td>02</td>\n",
       "      <td>2017-12-31T14:16:00.000Z</td>\n",
       "      <td>1</td>\n",
       "      <td>24 Hour Full</td>\n",
       "      <td>Barcode-Time Based</td>\n",
       "      <td>38.029564</td>\n",
       "      <td>-78.480278</td>\n",
       "    </tr>\n",
       "    <tr>\n",
       "      <th>554124</th>\n",
       "      <td>934445</td>\n",
       "      <td>11015 - East Water St at 3rd St SE</td>\n",
       "      <td>02</td>\n",
       "      <td>2017-12-31T14:16:00.000Z</td>\n",
       "      <td>1</td>\n",
       "      <td>30 Day Full</td>\n",
       "      <td>Smart Media-Time Based</td>\n",
       "      <td>38.029564</td>\n",
       "      <td>-78.480278</td>\n",
       "    </tr>\n",
       "    <tr>\n",
       "      <th>554125</th>\n",
       "      <td>934446</td>\n",
       "      <td>11015 - East Water St at 3rd St SE</td>\n",
       "      <td>02</td>\n",
       "      <td>2017-12-31T14:16:00.000Z</td>\n",
       "      <td>1</td>\n",
       "      <td>30 Day Reduced</td>\n",
       "      <td>Smart Media-Time Based</td>\n",
       "      <td>38.029564</td>\n",
       "      <td>-78.480278</td>\n",
       "    </tr>\n",
       "    <tr>\n",
       "      <th>554126</th>\n",
       "      <td>934447</td>\n",
       "      <td>11015 - East Water St at 3rd St SE</td>\n",
       "      <td>02</td>\n",
       "      <td>2017-12-31T15:16:00.000Z</td>\n",
       "      <td>1</td>\n",
       "      <td>Youth Smart</td>\n",
       "      <td>Smart Media-Date Based</td>\n",
       "      <td>38.029587</td>\n",
       "      <td>-78.480301</td>\n",
       "    </tr>\n",
       "    <tr>\n",
       "      <th>554127</th>\n",
       "      <td>934448</td>\n",
       "      <td>11015 - East Water St at 3rd St SE</td>\n",
       "      <td>02</td>\n",
       "      <td>2017-12-31T16:46:00.000Z</td>\n",
       "      <td>1</td>\n",
       "      <td>24 Hour Full</td>\n",
       "      <td>Barcode-Time Based</td>\n",
       "      <td>38.029552</td>\n",
       "      <td>-78.480247</td>\n",
       "    </tr>\n",
       "  </tbody>\n",
       "</table>\n",
       "</div>"
      ],
      "text/plain": [
       "        TransitID                                Stop Route  \\\n",
       "554123     934444  11015 - East Water St at 3rd St SE    02   \n",
       "554124     934445  11015 - East Water St at 3rd St SE    02   \n",
       "554125     934446  11015 - East Water St at 3rd St SE    02   \n",
       "554126     934447  11015 - East Water St at 3rd St SE    02   \n",
       "554127     934448  11015 - East Water St at 3rd St SE    02   \n",
       "\n",
       "                       Date_Time  Count    FareCategory  \\\n",
       "554123  2017-12-31T14:16:00.000Z      1    24 Hour Full   \n",
       "554124  2017-12-31T14:16:00.000Z      1     30 Day Full   \n",
       "554125  2017-12-31T14:16:00.000Z      1  30 Day Reduced   \n",
       "554126  2017-12-31T15:16:00.000Z      1     Youth Smart   \n",
       "554127  2017-12-31T16:46:00.000Z      1    24 Hour Full   \n",
       "\n",
       "                   PaymentType   Latitude  Longitude  \n",
       "554123      Barcode-Time Based  38.029564 -78.480278  \n",
       "554124  Smart Media-Time Based  38.029564 -78.480278  \n",
       "554125  Smart Media-Time Based  38.029564 -78.480278  \n",
       "554126  Smart Media-Date Based  38.029587 -78.480301  \n",
       "554127      Barcode-Time Based  38.029552 -78.480247  "
      ]
     },
     "execution_count": 37,
     "metadata": {},
     "output_type": "execute_result"
    }
   ],
   "source": [
    "data.tail()"
   ]
  },
  {
   "cell_type": "code",
   "execution_count": null,
   "metadata": {
    "collapsed": true
   },
   "outputs": [],
   "source": []
  }
 ],
 "metadata": {
  "kernelspec": {
   "display_name": "Python 3",
   "language": "python",
   "name": "python3"
  },
  "language_info": {
   "codemirror_mode": {
    "name": "ipython",
    "version": 3
   },
   "file_extension": ".py",
   "mimetype": "text/x-python",
   "name": "python",
   "nbconvert_exporter": "python",
   "pygments_lexer": "ipython3",
   "version": "3.6.0"
  }
 },
 "nbformat": 4,
 "nbformat_minor": 2
}
