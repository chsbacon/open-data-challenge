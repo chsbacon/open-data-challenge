{
 "cells": [
  {
   "cell_type": "code",
   "execution_count": 4,
   "metadata": {},
   "outputs": [
    {
     "name": "stdout",
     "output_type": "stream",
     "text": [
      "2017/01/09 05:00:00.000000 +00:00 74\n",
      "2017/01/15 05:00:00.000000 +00:00 74\n"
     ]
    }
   ],
   "source": [
    "import csv\n",
    "\n",
    "clients_path = '../data/01-01/Clients per day.csv'\n",
    "\n",
    "with open(clients_path) as csvfile:\n",
    "    reader = csv.DictReader(csvfile)\n",
    "    for row in reader:\n",
    "        if row['# Clients'] == '74':\n",
    "            print(row['\\uFEFFTime'], row['# Clients'])\n"
   ]
  },
  {
   "cell_type": "code",
   "execution_count": 15,
   "metadata": {},
   "outputs": [
    {
     "data": {
      "text/plain": [
       "time.struct_time(tm_year=2017, tm_mon=1, tm_mday=15, tm_hour=5, tm_min=0, tm_sec=0, tm_wday=6, tm_yday=15, tm_isdst=-1)"
      ]
     },
     "execution_count": 15,
     "metadata": {},
     "output_type": "execute_result"
    }
   ],
   "source": [
    "import time\n",
    "from datetime import datetime\n",
    "\n",
    "datetime.strptime('2017/01/15 05:00:00.000000 +00:00', '%Y/%m/%d %H:%M:%S.%f +00:00').timetuple()"
   ]
  },
  {
   "cell_type": "code",
   "execution_count": null,
   "metadata": {},
   "outputs": [],
   "source": []
  }
 ],
 "metadata": {
  "kernelspec": {
   "display_name": "Python 3",
   "language": "python",
   "name": "python3"
  },
  "language_info": {
   "codemirror_mode": {
    "name": "ipython",
    "version": 3
   },
   "file_extension": ".py",
   "mimetype": "text/x-python",
   "name": "python",
   "nbconvert_exporter": "python",
   "pygments_lexer": "ipython3",
   "version": "3.4.3"
  }
 },
 "nbformat": 4,
 "nbformat_minor": 2
}
