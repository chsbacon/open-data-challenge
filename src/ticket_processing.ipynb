{
 "cells": [
  {
   "cell_type": "code",
   "execution_count": null,
   "metadata": {},
   "outputs": [],
   "source": [
    "import pandas as pd\n",
    "from dateutil import parser\n",
    "from geopy import Nominatim\n",
    "\n",
    "import glob\n",
    "import os\n",
    "\n",
    "geolocator = Nominatim()\n",
    "\n",
    "def locToCoords(location):\n",
    "    coords = geolocator.geocode(location + \" Charlottesville\")\n",
    "    longitude = coords.longitude\n",
    "    latitude = coords.latitude\n",
    "    return(latitude, longitude)"
   ]
  },
  {
   "cell_type": "code",
   "execution_count": 8,
   "metadata": {},
   "outputs": [],
   "source": [
    "ticket_path = os.path.join('..','data','parking_tickets','Parking_Tickets.csv')\n",
    "data = pd.read_csv(ticket_path, low_memory=0)\n",
    "\n",
    "data = data[data['DateIssued'].str.contains('2017')].sort_values(by=['DateIssued'])"
   ]
  }
 ],
 "metadata": {
  "kernelspec": {
   "display_name": "Python 3",
   "language": "python",
   "name": "python3"
  },
  "language_info": {
   "codemirror_mode": {
    "name": "ipython",
    "version": 3
   },
   "file_extension": ".py",
   "mimetype": "text/x-python",
   "name": "python",
   "nbconvert_exporter": "python",
   "pygments_lexer": "ipython3",
   "version": "3.5.2"
  }
 },
 "nbformat": 4,
 "nbformat_minor": 2
}
