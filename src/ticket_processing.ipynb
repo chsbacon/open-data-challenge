{
 "cells": [
  {
   "cell_type": "code",
   "execution_count": 83,
   "metadata": {
    "collapsed": true
   },
   "outputs": [],
   "source": [
    "import pandas as pd\n",
    "from dateutil import parser\n",
    "from geopy import Nominatim\n",
    "import numpy as np\n",
    "from numpy.linalg import norm\n",
    "from time import sleep\n",
    "\n",
    "import glob\n",
    "import os\n",
    "\n",
    "geolocator = Nominatim()\n",
    "\n",
    "def locToCoords(location):\n",
    "    sleep(1.1)\n",
    "    coords = geolocator.geocode(location + \" Charlottesville\")\n",
    "    if coords is not None and coords.longitude is not None:\n",
    "        longitude = coords.longitude\n",
    "        latitude = coords.latitude\n",
    "        return(latitude, longitude)\n",
    "    return(\"Did not process\")\n",
    "\n",
    "# Mall coordinates -  (38.031233, -78.482905) (38.029413, -78.477146)\n",
    "def distToMall(posTuple):\n",
    "    lat = posTuple[0]\n",
    "    long = posTuple[1]\n",
    "    p1 = np.array([38.031233, -78.482905])\n",
    "    p2 = np.array([38.029413, -78.477146])\n",
    "    p3 = np.array([lat, long])\n",
    "    return norm(np.cross(p2 - p1, p1 - p3)) / norm(p2 - p1)"
   ]
  },
  {
   "cell_type": "code",
   "execution_count": null,
   "metadata": {
    "collapsed": true
   },
   "outputs": [],
   "source": [
    "ticket_path = os.path.join('..','data','parking_tickets','Parking_Tickets.csv')\n",
    "data = pd.read_csv(ticket_path, low_memory=0)\n",
    "\n",
    "data = data[data['DateIssued'].str.contains('2017')].sort_values(by=['DateIssued'])"
   ]
  },
  {
   "cell_type": "code",
   "execution_count": null,
   "metadata": {},
   "outputs": [],
   "source": [
    "data['DistMetric'] = data[\"Location\"].apply(locToCoords).apply(distToMall).apply(lambda x: x**2.5 * 10**7)"
   ]
  }
 ],
 "metadata": {
  "kernelspec": {
   "display_name": "Python 3",
   "language": "python",
   "name": "python3"
  },
  "language_info": {
   "codemirror_mode": {
    "name": "ipython",
    "version": 3
   },
   "file_extension": ".py",
   "mimetype": "text/x-python",
   "name": "python",
   "nbconvert_exporter": "python",
   "pygments_lexer": "ipython3",
   "version": "3.5.2"
  }
 },
 "nbformat": 4,
 "nbformat_minor": 2
}
