{
 "cells": [
  {
   "cell_type": "code",
   "execution_count": 43,
   "metadata": {
    "collapsed": true
   },
   "outputs": [],
   "source": [
    "import pandas as pd\n",
    "from dateutil import parser\n",
    "from geopy import Nominatim\n",
    "from geopy.distance import great_circle\n",
    "import numpy as np\n",
    "from numpy.linalg import norm\n",
    "from time import sleep\n",
    "\n",
    "import glob\n",
    "import os\n",
    "\n",
    "geolocator = Nominatim()\n",
    "\n",
    "# used a geocoder to translate street addresses to coordinates\n",
    "def locToCoords(location):\n",
    "    sleep(1.1)\n",
    "    coords = geolocator.geocode(location + \" Charlottesville Virginia\")\n",
    "    if coords is not None and coords.longitude is not None:\n",
    "        longitude = coords.longitude\n",
    "        latitude = coords.latitude\n",
    "        return(latitude, longitude)\n",
    "    return(\"Did not process\")\n",
    "\n",
    "# Mall coordinates -  (38.031233, -78.482905) (38.029413, -78.477146)\n",
    "def distToMall(posTuple):\n",
    "    center = (38.030, -78.48)\n",
    "    return(great_circle(center, posTuple).miles)\n",
    "\n",
    "# pandas apply didn't want to work with a dataframe\n",
    "# so this was my workaround don't judge pls\n",
    "def dict_to_coords(value):\n",
    "    try:\n",
    "        return locdict[value]\n",
    "    except:\n",
    "        return np.nan\n",
    "    \n",
    "def fix_other_cvilles(dist):\n",
    "    if(dist > 1000):\n",
    "        return(.05)\n",
    "    return(dist)"
   ]
  },
  {
   "cell_type": "code",
   "execution_count": 45,
   "metadata": {},
   "outputs": [
    {
     "name": "stdout",
     "output_type": "stream",
     "text": [
      "1.8947960373522337\n"
     ]
    }
   ],
   "source": [
    "print(distToMall(locToCoords(\"1636 ST ANNES RD\")))"
   ]
  },
  {
   "cell_type": "code",
   "execution_count": 64,
   "metadata": {
    "collapsed": true
   },
   "outputs": [],
   "source": [
    "# loading data, normal stuff. Dropping duplicates based on location to reduce number of queries\n",
    "ticket_path = os.path.join('..','data','parking_tickets','Parking_Tickets.csv')\n",
    "data = pd.read_csv(ticket_path, low_memory=0)\n",
    "data = data[data['DateIssued'].str.contains('2017')].sort_values(by=['DateIssued'])\n",
    "#no_dup_data = data.drop_duplicates(['Location'])"
   ]
  },
  {
   "cell_type": "code",
   "execution_count": null,
   "metadata": {
    "collapsed": true
   },
   "outputs": [],
   "source": [
    "# querying the geocoder and saving the result\n",
    "no_dup_data['Coords'] = no_dup_data[\"Location\"].apply(locToCoords)\n",
    "no_dup_data.to_csv('coords.csv')"
   ]
  },
  {
   "cell_type": "code",
   "execution_count": 59,
   "metadata": {},
   "outputs": [
    {
     "data": {
      "text/html": [
       "<div>\n",
       "<style>\n",
       "    .dataframe thead tr:only-child th {\n",
       "        text-align: right;\n",
       "    }\n",
       "\n",
       "    .dataframe thead th {\n",
       "        text-align: left;\n",
       "    }\n",
       "\n",
       "    .dataframe tbody tr th {\n",
       "        vertical-align: top;\n",
       "    }\n",
       "</style>\n",
       "<table border=\"1\" class=\"dataframe\">\n",
       "  <thead>\n",
       "    <tr style=\"text-align: right;\">\n",
       "      <th></th>\n",
       "      <th>RecordID</th>\n",
       "      <th>TicketNumber</th>\n",
       "      <th>DateIssued</th>\n",
       "      <th>StreetName</th>\n",
       "      <th>TimeIssued</th>\n",
       "      <th>StreetNumber</th>\n",
       "      <th>LicenseState</th>\n",
       "      <th>WaiverRequestDate</th>\n",
       "      <th>WaiverGrantedDate</th>\n",
       "      <th>AppealDate</th>\n",
       "      <th>AppealGrantedDate</th>\n",
       "      <th>ViolationDescription</th>\n",
       "      <th>AppealStatus</th>\n",
       "      <th>Location</th>\n",
       "      <th>LicensePlateAnon</th>\n",
       "    </tr>\n",
       "  </thead>\n",
       "  <tbody>\n",
       "    <tr>\n",
       "      <th>363636</th>\n",
       "      <td>363637</td>\n",
       "      <td>87556602</td>\n",
       "      <td>2017-01-03T00:00:00.000Z</td>\n",
       "      <td>LEXINGTON AVE</td>\n",
       "      <td>12:57</td>\n",
       "      <td>400</td>\n",
       "      <td>VA</td>\n",
       "      <td>NaN</td>\n",
       "      <td>NaN</td>\n",
       "      <td>NaN</td>\n",
       "      <td>NaN</td>\n",
       "      <td>Overtime Parking</td>\n",
       "      <td>n/a</td>\n",
       "      <td>400 LEXINGTON AVE</td>\n",
       "      <td>65255</td>\n",
       "    </tr>\n",
       "    <tr>\n",
       "      <th>363333</th>\n",
       "      <td>363334</td>\n",
       "      <td>87512602</td>\n",
       "      <td>2017-01-03T00:00:00.000Z</td>\n",
       "      <td>W MAIN ST</td>\n",
       "      <td>13:06</td>\n",
       "      <td>500</td>\n",
       "      <td>VA</td>\n",
       "      <td>NaN</td>\n",
       "      <td>NaN</td>\n",
       "      <td>NaN</td>\n",
       "      <td>NaN</td>\n",
       "      <td>Overtime Parking</td>\n",
       "      <td>n/a</td>\n",
       "      <td>500 W MAIN ST</td>\n",
       "      <td>82086</td>\n",
       "    </tr>\n",
       "    <tr>\n",
       "      <th>12806</th>\n",
       "      <td>12807</td>\n",
       "      <td>00196009</td>\n",
       "      <td>2017-01-03T09:54:11.000Z</td>\n",
       "      <td>E MARKET ST</td>\n",
       "      <td>09:54</td>\n",
       "      <td>700</td>\n",
       "      <td>VA</td>\n",
       "      <td>NaN</td>\n",
       "      <td>NaN</td>\n",
       "      <td>NaN</td>\n",
       "      <td>NaN</td>\n",
       "      <td>Handicapped Space</td>\n",
       "      <td>n/a</td>\n",
       "      <td>700 E MARKET ST</td>\n",
       "      <td>109950</td>\n",
       "    </tr>\n",
       "    <tr>\n",
       "      <th>12807</th>\n",
       "      <td>12808</td>\n",
       "      <td>00196010</td>\n",
       "      <td>2017-01-03T09:57:42.000Z</td>\n",
       "      <td>E MARKET ST</td>\n",
       "      <td>09:57</td>\n",
       "      <td>700</td>\n",
       "      <td>VA</td>\n",
       "      <td>NaN</td>\n",
       "      <td>NaN</td>\n",
       "      <td>NaN</td>\n",
       "      <td>NaN</td>\n",
       "      <td>Handicapped Space</td>\n",
       "      <td>n/a</td>\n",
       "      <td>700 E MARKET ST</td>\n",
       "      <td>104027</td>\n",
       "    </tr>\n",
       "    <tr>\n",
       "      <th>12808</th>\n",
       "      <td>12809</td>\n",
       "      <td>00196011</td>\n",
       "      <td>2017-01-03T10:08:24.000Z</td>\n",
       "      <td>W MARKET ST</td>\n",
       "      <td>10:08</td>\n",
       "      <td>100</td>\n",
       "      <td>VA</td>\n",
       "      <td>NaN</td>\n",
       "      <td>NaN</td>\n",
       "      <td>NaN</td>\n",
       "      <td>NaN</td>\n",
       "      <td>Handicapped Space</td>\n",
       "      <td>n/a</td>\n",
       "      <td>100 W MARKET ST</td>\n",
       "      <td>109555</td>\n",
       "    </tr>\n",
       "  </tbody>\n",
       "</table>\n",
       "</div>"
      ],
      "text/plain": [
       "        RecordID TicketNumber                DateIssued     StreetName  \\\n",
       "363636    363637     87556602  2017-01-03T00:00:00.000Z  LEXINGTON AVE   \n",
       "363333    363334     87512602  2017-01-03T00:00:00.000Z      W MAIN ST   \n",
       "12806      12807     00196009  2017-01-03T09:54:11.000Z    E MARKET ST   \n",
       "12807      12808     00196010  2017-01-03T09:57:42.000Z    E MARKET ST   \n",
       "12808      12809     00196011  2017-01-03T10:08:24.000Z    W MARKET ST   \n",
       "\n",
       "       TimeIssued StreetNumber LicenseState WaiverRequestDate  \\\n",
       "363636      12:57          400           VA               NaN   \n",
       "363333      13:06          500           VA               NaN   \n",
       "12806       09:54          700           VA               NaN   \n",
       "12807       09:57          700           VA               NaN   \n",
       "12808       10:08          100           VA               NaN   \n",
       "\n",
       "       WaiverGrantedDate AppealDate AppealGrantedDate ViolationDescription  \\\n",
       "363636               NaN        NaN               NaN     Overtime Parking   \n",
       "363333               NaN        NaN               NaN     Overtime Parking   \n",
       "12806                NaN        NaN               NaN    Handicapped Space   \n",
       "12807                NaN        NaN               NaN    Handicapped Space   \n",
       "12808                NaN        NaN               NaN    Handicapped Space   \n",
       "\n",
       "       AppealStatus           Location  LicensePlateAnon  \n",
       "363636          n/a  400 LEXINGTON AVE             65255  \n",
       "363333          n/a      500 W MAIN ST             82086  \n",
       "12806           n/a    700 E MARKET ST            109950  \n",
       "12807           n/a    700 E MARKET ST            104027  \n",
       "12808           n/a    100 W MARKET ST            109555  "
      ]
     },
     "execution_count": 59,
     "metadata": {},
     "output_type": "execute_result"
    }
   ],
   "source": [
    "data.head()"
   ]
  },
  {
   "cell_type": "code",
   "execution_count": 63,
   "metadata": {},
   "outputs": [],
   "source": [
    "# turn these two columns into a dict so we can apply to the duplicates\n",
    "ticket_path = os.path.join('..','data','parking_tickets','coords.csv')\n",
    "no_dup_data = pd.read_csv(ticket_path, low_memory=0)\n",
    "locdict = no_dup_data.set_index('Location')['Coords'].to_dict()"
   ]
  },
  {
   "cell_type": "code",
   "execution_count": 65,
   "metadata": {
    "collapsed": true
   },
   "outputs": [],
   "source": [
    "# filter out values that the geocoder couldn't parse\n",
    "data = data[data['Location'].isin(locdict.keys())]"
   ]
  },
  {
   "cell_type": "code",
   "execution_count": 66,
   "metadata": {
    "collapsed": true
   },
   "outputs": [],
   "source": [
    "# apply the dict to the full list with duplicates\n",
    "data['Coords'] = data['Location'].apply(dict_to_coords)\n",
    "data = data[data['Coords'] != np.nan]\n",
    "# distance squared, clipped at .025, which is right on the mall (getting rid of crazy low values)\n",
    "data['DistMetric'] = data['Coords'].apply(distToMall)"
   ]
  },
  {
   "cell_type": "code",
   "execution_count": null,
   "metadata": {},
   "outputs": [],
   "source": [
    "data.to_csv('ticket_with_loc.csv')"
   ]
  },
  {
   "cell_type": "code",
   "execution_count": 60,
   "metadata": {},
   "outputs": [],
   "source": [
    "ticket_path = os.path.join('..','data','parking_tickets','ticket_with_loc.csv')\n",
    "data = pd.read_csv(ticket_path, low_memory=0)\n",
    "data['DistMetric'] = data['Coords'].apply(distToMall)"
   ]
  },
  {
   "cell_type": "code",
   "execution_count": 71,
   "metadata": {},
   "outputs": [],
   "source": [
    "data = data[data[\"DistMetric\"] < .5]"
   ]
  },
  {
   "cell_type": "code",
   "execution_count": 72,
   "metadata": {},
   "outputs": [
    {
     "data": {
      "text/plain": [
       "(8021, 17)"
      ]
     },
     "execution_count": 72,
     "metadata": {},
     "output_type": "execute_result"
    }
   ],
   "source": [
    "data.shape"
   ]
  },
  {
   "cell_type": "code",
   "execution_count": 74,
   "metadata": {},
   "outputs": [],
   "source": [
    "data.to_csv('tickets_near_mall.csv')"
   ]
  },
  {
   "cell_type": "markdown",
   "metadata": {},
   "source": []
  }
 ],
 "metadata": {
  "kernelspec": {
   "display_name": "Python 3",
   "language": "python",
   "name": "python3"
  },
  "language_info": {
   "codemirror_mode": {
    "name": "ipython",
    "version": 3
   },
   "file_extension": ".py",
   "mimetype": "text/x-python",
   "name": "python",
   "nbconvert_exporter": "python",
   "pygments_lexer": "ipython3",
   "version": "3.5.2"
  }
 },
 "nbformat": 4,
 "nbformat_minor": 2
}
