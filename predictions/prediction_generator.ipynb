{
 "cells": [
  {
   "cell_type": "code",
   "execution_count": null,
   "metadata": {},
   "outputs": [],
   "source": [
    "import pandas as pd\n",
    "import numpy as np\n",
    "\n",
    "from keras.models import load_model\n",
    "from keras.utils import to_categorical\n",
    "from scipy.stats import zscore\n",
    "\n",
    "from os.path import join\n",
    "from datetime import datetime"
   ]
  },
  {
   "cell_type": "code",
   "execution_count": null,
   "metadata": {},
   "outputs": [],
   "source": [
    "weather_path = join('..','data','weather','precip_temp.csv')\n",
    "weather_df = pd.read_csv(weather_path)\n",
    "# Add normalized columns\n",
    "weather_df[['TMIN-norm','TMAX-norm']] = weather_df[['TMIN','TMAX']] - (weather_df[['TMIN', 'TMAX']].sum().sum() \\\n",
    "                              / weather_df[['TMIN', 'TMAX']].size)\n",
    "weather_df[['TMIN-norm','TMAX-norm']] /= (weather_df[['TMIN-norm', 'TMAX-norm']].abs().sum().sum() \\\n",
    "                              / weather_df[['TMIN-norm', 'TMAX-norm']].size)\n",
    "weather_df['PRCP-norm'] = zscore(weather_df['PRCP'])\n",
    "\n",
    "model_path = join('..','models','model.h5')\n",
    "model = load_model(model_path)"
   ]
  },
  {
   "cell_type": "code",
   "execution_count": null,
   "metadata": {},
   "outputs": [],
   "source": [
    "start = datetime(2017, 12, 21, 2)\n",
    "end = datetime(2017, 12, 28) # end is not inclusive\n",
    "dates = pd.date_range(start, end)\n",
    "inputs = pd.DataFrame({'DATE': dates})\n",
    "inputs['DATE'] = [dt.strftime('%Y-%m-%d') for dt in inputs['DATE']]\n",
    "inputs = inputs.merge(weather_df[['DATE','TMIN-norm','TMAX-norm','PRCP-norm']], left_on='DATE', right_on='DATE')\n",
    "for d in range(7):\n",
    "    inputs['weekday-%i' % d] = [int(datetime.strptime(date, '%Y-%m-%d').weekday()==d) for date in inputs['DATE']]\n",
    "inputs['Year %'] = [datetime.strptime(date, '%Y-%m-%d').timetuple()[7] / 365 for date in inputs['DATE']]\n",
    "weather_x = inputs[['TMIN-norm', 'TMAX-norm', 'PRCP-norm']].values\n",
    "day_x = inputs.filter(regex='weekday-').values\n",
    "date_x = inputs[['Year %']]\n",
    "predictions = model.predict([weather_x, day_x, date_x])\n",
    "output = pd.DataFrame(index=dates)\n",
    "output['# Clients'] = predictions[0]\n",
    "output['# Sessions'] = predictions[1]\n",
    "\n",
    "output['# Clients'].to_csv('Clients per day.csv', header=False)\n",
    "output['# Sessions'].to_csv('Number of sessions over time.csv', header=False)\n",
    "\n",
    "hours = pd.date_range(start, end, freq='4H')\n",
    "usage = pd.DataFrame(index=hours)\n",
    "usage['usage'] = 0\n",
    "usage['usage'].to_csv('Usage over time.csv', header=False)"
   ]
  },
  {
   "cell_type": "code",
   "execution_count": null,
   "metadata": {},
   "outputs": [],
   "source": []
  }
 ],
 "metadata": {
  "kernelspec": {
   "display_name": "Python 3",
   "language": "python",
   "name": "python3"
  },
  "language_info": {
   "codemirror_mode": {
    "name": "ipython",
    "version": 3
   },
   "file_extension": ".py",
   "mimetype": "text/x-python",
   "name": "python",
   "nbconvert_exporter": "python",
   "pygments_lexer": "ipython3",
   "version": "3.6.4"
  }
 },
 "nbformat": 4,
 "nbformat_minor": 2
}
