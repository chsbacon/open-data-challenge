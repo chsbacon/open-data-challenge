{
 "cells": [
  {
   "cell_type": "code",
   "execution_count": 18,
   "metadata": {},
   "outputs": [],
   "source": [
    "import pandas as pd\n",
    "import numpy as np\n",
    "\n",
    "from keras.models import load_model\n",
    "from keras.utils import to_categorical\n",
    "from scipy.stats import zscore\n",
    "\n",
    "from os.path import join\n",
    "from datetime import datetime"
   ]
  },
  {
   "cell_type": "code",
   "execution_count": 19,
   "metadata": {},
   "outputs": [],
   "source": [
    "weather_path = join('..','data','weather','precip_temp.csv')\n",
    "weather_df = pd.read_csv(weather_path)\n",
    "# Add normalized columns\n",
    "weather_df[['TMIN-norm','TMAX-norm']] = weather_df[['TMIN','TMAX']] - (weather_df[['TMIN', 'TMAX']].sum().sum() \\\n",
    "                              / weather_df[['TMIN', 'TMAX']].size)\n",
    "weather_df[['TMIN-norm','TMAX-norm']] /= (weather_df[['TMIN-norm', 'TMAX-norm']].abs().sum().sum() \\\n",
    "                              / weather_df[['TMIN-norm', 'TMAX-norm']].size)\n",
    "weather_df['PRCP-norm'] = zscore(weather_df['PRCP'])\n",
    "\n",
    "model = load_model('model.h5')"
   ]
  },
  {
   "cell_type": "code",
   "execution_count": 20,
   "metadata": {},
   "outputs": [],
   "source": [
    "def predict_at_date(date):\n",
    "    \"\"\"\n",
    "    Estimate wifi usage on a given date\n",
    "    \n",
    "    Args:\n",
    "        date: string in '%Y-%m-%d' format, e.g. '2017-05-30'\n",
    "    \n",
    "    Returns:\n",
    "        dictionary with estimate for:\n",
    "            # Clients\n",
    "            # Sessions\n",
    "            4 hour blocks of usage in bytes\n",
    "        as well as day of the week and weather\n",
    "    \"\"\"\n",
    "    dt = datetime.strptime(date, '%Y-%m-%d')\n",
    "    weather = weather_df[weather_df['DATE'] == date][['PRCP', 'TMAX', 'TMIN']].values\n",
    "    weather_norm = weather_df[weather_df['DATE'] == date] \\\n",
    "        [['PRCP-norm', 'TMAX-norm', 'TMIN-norm']].values\n",
    "    date = np.array([dt.timetuple()[7] / 365])\n",
    "    day = to_categorical(dt.weekday(), num_classes=7)\n",
    "    predictions = model.predict([weather_norm, np.array([day]), date])\n",
    "    return {'usage': predictions[0], '# clients': predictions[1],\n",
    "            '# sessions': predictions[2], 'day': dt.strftime('%A'),\n",
    "           'weather': {'precipitation':weather[0][0], 'high':weather[0][1], 'low':weather[0][2]}}"
   ]
  },
  {
   "cell_type": "code",
   "execution_count": 21,
   "metadata": {},
   "outputs": [
    {
     "data": {
      "text/plain": [
       "{'# clients': array([[48.728317]], dtype=float32),\n",
       " '# sessions': array([[436.88882]], dtype=float32),\n",
       " 'day': 'Tuesday',\n",
       " 'usage': array([[15204.548 ,  3058.044 ,  6173.813 ,  2424.7856,  3680.3906,\n",
       "         19471.607 ]], dtype=float32),\n",
       " 'weather': {'high': 25.9, 'low': 16.1, 'precipitation': 0.0}}"
      ]
     },
     "execution_count": 21,
     "metadata": {},
     "output_type": "execute_result"
    }
   ],
   "source": [
    "predict_at_date('2017-05-30')"
   ]
  },
  {
   "cell_type": "code",
   "execution_count": null,
   "metadata": {},
   "outputs": [],
   "source": []
  }
 ],
 "metadata": {
  "kernelspec": {
   "display_name": "Python 3",
   "language": "python",
   "name": "python3"
  },
  "language_info": {
   "codemirror_mode": {
    "name": "ipython",
    "version": 3
   },
   "file_extension": ".py",
   "mimetype": "text/x-python",
   "name": "python",
   "nbconvert_exporter": "python",
   "pygments_lexer": "ipython3",
   "version": "3.6.4"
  }
 },
 "nbformat": 4,
 "nbformat_minor": 2
}
